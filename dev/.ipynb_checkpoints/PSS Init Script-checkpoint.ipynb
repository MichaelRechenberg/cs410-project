{
 "cells": [
  {
   "cell_type": "code",
   "execution_count": 73,
   "metadata": {
    "collapsed": false
   },
   "outputs": [],
   "source": [
    "# Run once for init in the directory you want to setup your stuff\n",
    "\n",
    "import os\n",
    "\n",
    "#TODO: set this to be a value of an environment variable\n",
    "root_dir = os.getcwd()\n",
    "\n",
    "raw_docs_dir = \"raw_docs\"\n",
    "parsed_docs_dir = \"parsed_docs\"\n",
    "\n",
    "# Create the directories (if they don't exist already)\n",
    "# TODO: set more restrictive permissions\n",
    "directories_to_create = [raw_docs_dir, parsed_docs_dir]\n",
    "for directory in directories_to_create:\n",
    "    try:\n",
    "        os.mkdir(os.path.join(root_dir, directory))\n",
    "    except FileExistsError:\n",
    "        #If the file already exists just continue on silently\n",
    "        pass\n",
    "\n",
    "# At this point the instructor will go ahead and create whatever directories they wish\n",
    "# within the raw_docs_dir\n",
    "\n"
   ]
  },
  {
   "cell_type": "code",
   "execution_count": 72,
   "metadata": {
    "collapsed": false
   },
   "outputs": [
    {
     "name": "stdout",
     "output_type": "stream",
     "text": [
      "Beginning Parsing\n",
      "Finished Parsing\n"
     ]
    }
   ],
   "source": [
    "\n",
    "\n",
    "root_dir = os.getcwd()\n",
    "raw_docs_dir = \"raw_docs\"\n",
    "parsed_docs_dir = \"parsed_docs\"\n",
    "\n",
    "def parse_file(filename, parsed_docs_directory):\n",
    "    \"\"\"\n",
    "        Params:\n",
    "            filename -- the relative path of the file, with top level being raw_docs_dir\n",
    "            parsed_docs_directory -- name of the directory we will store the parsed docs\n",
    "    \n",
    "        Dummy parser which just adds RITA RITA RITA as the last line\n",
    "            and writes the parsed file to parsed_docs_directory\n",
    "    \"\"\"\n",
    "\n",
    "    with open(filename, \"r\") as raw_file:\n",
    "        #get an absolute path\n",
    "        parsed_docs_directory = os.path.join(root_dir, parsed_docs_dir)\n",
    "        with open(os.path.join(parsed_docs_directory, os.path.basename(filename)), \"w+\") as parsed_file:\n",
    "            # You'd add you your fancy parser logic here\n",
    "            \n",
    "            parsed_file.write('MOONMOON MOONMOON ASDF\\n')\n",
    "            for line in raw_file:\n",
    "                parsed_file.write(line)\n",
    "            parsed_file.write('RITA RITA RITA\\n')\n",
    "        \n",
    "def parse_raw_docs():\n",
    "    print(\"Beginning Parsing\")\n",
    "    \n",
    "    # walk yields a 3-tuple (dirpath, dirnames, filenames), goes recursively\n",
    "    # os.path.join(dirpath, name)\n",
    "    for result in os.walk(os.path.join(root_dir, raw_docs_dir)):\n",
    "        # this directory contains files\n",
    "        if(len(result[2]) > 0):\n",
    "            parser_func = parse_file\n",
    "            for file in result[2]:\n",
    "                parser_func(os.path.join(result[0], file), parsed_docs_dir)\n",
    "                \n",
    "    print(\"Finished Parsing\")\n",
    "                \n",
    "parse_raw_docs()\n",
    "   \n",
    "\n",
    "\n"
   ]
  }
 ],
 "metadata": {
  "kernelspec": {
   "display_name": "Python 3",
   "language": "python",
   "name": "python3"
  },
  "language_info": {
   "codemirror_mode": {
    "name": "ipython",
    "version": 3
   },
   "file_extension": ".py",
   "mimetype": "text/x-python",
   "name": "python",
   "nbconvert_exporter": "python",
   "pygments_lexer": "ipython3",
   "version": "3.5.3"
  }
 },
 "nbformat": 4,
 "nbformat_minor": 2
}
